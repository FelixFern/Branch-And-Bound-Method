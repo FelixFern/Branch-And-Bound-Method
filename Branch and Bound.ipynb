{
 "cells": [
  {
   "cell_type": "markdown",
   "metadata": {},
   "source": [
    "# Branch and Bound Method\n",
    "an algorithm to solve integer optimization problem using Branch and Bound method.\n",
    "\n",
    "Name : Felix Fernando \n",
    "\n",
    "NIM : 10120082\n",
    "\n"
   ]
  },
  {
   "cell_type": "code",
   "execution_count": 3,
   "metadata": {},
   "outputs": [],
   "source": [
    "import scipy \n",
    "import numpy as np \n",
    "\n",
    "def is_integer(n):\n",
    "    if int(n) == n:\n",
    "        return True\n",
    "    else:\n",
    "        return False\n",
    "\n",
    "def branch_and_bound(c, A, b, integer_var, lb, ub, isMax = False, depth=1):\n",
    "    # Optimal solution for LP Relaxation\n",
    "    if(isMax):\n",
    "        optimized = scipy.optimize.linprog(-c, A, b, method=\"highs\", bounds=list(zip(lb, ub)))\n",
    "    else:\n",
    "        optimized = scipy.optimize.linprog(c, A, b, method=\"highs\", bounds=list(zip(lb, ub)))\n",
    "\n",
    "    x_candidate = optimized.x\n",
    "    f_candidate = optimized.fun\n",
    "    \n",
    "    var_constraint_fulfilled = True\n",
    "\n",
    "    if(f_candidate == None):\n",
    "        if(isMax):\n",
    "            return [], -np.inf, depth\n",
    "        else:\n",
    "            return [], np.inf, depth\n",
    "            \n",
    "    for idx, bool in enumerate(integer_var):\n",
    "        if(bool and not is_integer(x_candidate[idx])):\n",
    "            var_constraint_fulfilled = False \n",
    "            break\n",
    "        else:\n",
    "            var_constraint_fulfilled = True\n",
    "        \n",
    "    if(var_constraint_fulfilled): \n",
    "        if(isMax):\n",
    "            return x_candidate, -f_candidate, depth\n",
    "        else: \n",
    "            return x_candidate, f_candidate, depth\n",
    "    else: \n",
    "        left_lb = np.copy(lb)\n",
    "        left_ub = np.copy(ub)\n",
    "\n",
    "        right_lb = np.copy(lb)\n",
    "        right_ub = np.copy(ub)\n",
    "\n",
    "        max_coeff_idx = -1\n",
    "        for idx, val in enumerate(integer_var):\n",
    "            if(val and not is_integer(x_candidate[idx])):\n",
    "                if(max_coeff_idx == -1):\n",
    "                    max_coeff_idx = idx\n",
    "                elif(c[max_coeff_idx] < c[idx]):\n",
    "                    max_coeff_idx = idx\n",
    "\n",
    "        left_ub[max_coeff_idx] = np.floor(x_candidate[max_coeff_idx])\n",
    "        right_lb[max_coeff_idx] = np.ceil(x_candidate[max_coeff_idx])\n",
    "\n",
    "        x_left, f_left, depth_left = branch_and_bound(c, A, b, integer_var, left_lb, left_ub, isMax, depth + 1)\n",
    "        x_right, f_right, depth_right = branch_and_bound(c, A, b, integer_var, right_lb, right_ub, isMax, depth + 1)\n",
    "\n",
    "        if(isMax):\n",
    "            if(f_left > f_right):\n",
    "                return x_left, f_left, depth_left\n",
    "            else: \n",
    "                return x_right, f_right, depth_right\n",
    "        else:\n",
    "            if(f_left < f_right):\n",
    "                return x_left, f_left, depth_left\n",
    "            else: \n",
    "                return x_right, f_right, depth_right"
   ]
  },
  {
   "cell_type": "markdown",
   "metadata": {},
   "source": [
    "# Perform the integer optimization here"
   ]
  },
  {
   "cell_type": "code",
   "execution_count": 9,
   "metadata": {},
   "outputs": [
    {
     "name": "stdout",
     "output_type": "stream",
     "text": [
      "========= Optimal Solutions =========\n",
      "Variable:\n",
      ">  x0 = 0.3333333333333333\n",
      ">  x1 = 3.0\n",
      ">  x2 = 0.0\n",
      "Objective Function:\n",
      ">  f = 10.333333333333334\n",
      "Tree depth: 2\n"
     ]
    }
   ],
   "source": [
    "# Objective Function Coefficient\n",
    "c = np.array([4, 3, 1])\n",
    "\n",
    "# Constraint\n",
    "A = np.array([[3, 2, 1], [2, 1, 2]])\n",
    "b = np.array([7, 11])\n",
    "\n",
    "# Select the integer var\n",
    "integer_var = [False, True, True]\n",
    "\n",
    "# Lower bound for each constraint \n",
    "lb = [0, 0, 0]\n",
    "# Upper bound for each constraint \n",
    "ub = [None, None, None]\n",
    "\n",
    "x_optimal, f_optimal, depth_optimal = branch_and_bound(c, A, b, integer_var, lb, ub, True)\n",
    "print(\"========= Optimal Solutions =========\")\n",
    "\n",
    "print(\"Variable:\")\n",
    "for idx, var in enumerate(x_optimal): \n",
    "    print(f\">  x{idx} = {var}\")\n",
    "\n",
    "print(\"Objective Function:\")\n",
    "print(f\">  f = {f_optimal}\")\n",
    "print(f\"Tree depth: {depth_optimal}\")"
   ]
  }
 ],
 "metadata": {
  "kernelspec": {
   "display_name": "base",
   "language": "python",
   "name": "python3"
  },
  "language_info": {
   "codemirror_mode": {
    "name": "ipython",
    "version": 3
   },
   "file_extension": ".py",
   "mimetype": "text/x-python",
   "name": "python",
   "nbconvert_exporter": "python",
   "pygments_lexer": "ipython3",
   "version": "3.10.10"
  },
  "orig_nbformat": 4
 },
 "nbformat": 4,
 "nbformat_minor": 2
}
